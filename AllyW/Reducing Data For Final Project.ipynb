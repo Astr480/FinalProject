{
 "cells": [
  {
   "cell_type": "code",
   "execution_count": 1,
   "metadata": {},
   "outputs": [],
   "source": [
    "%matplotlib inline\n",
    "import matplotlib.pyplot as plt\n",
    "import numpy as np\n",
    "from msumastro import ImageFileCollection, TableTree\n",
    "\n",
    "from astropy.modeling import models\n",
    "from astropy import units as u\n",
    "from astropy import nddata\n",
    "from astropy.io import fits\n",
    "import glob\n",
    "import ccdproc\n",
    "import tarfile\n",
    "if ('wolf1346 (1).tar.gz'.endswith(\"tar.gz\")):\n",
    "    tar = tarfile.open('wolf1346 (1).tar.gz', \"r:gz\")\n",
    "    tar.extractall()\n",
    "    tar.close()"
   ]
  },
  {
   "cell_type": "code",
   "execution_count": 2,
   "metadata": {},
   "outputs": [],
   "source": [
    "gain = 1.47 * u.electron / u.adu\n",
    "readnoise = 29 * u.electron"
   ]
  },
  {
   "cell_type": "code",
   "execution_count": 3,
   "metadata": {},
   "outputs": [],
   "source": [
    "bias_list =glob.glob('/users/allyw/Astro 480/ResearchProject/Bias*.fits')\n"
   ]
  },
  {
   "cell_type": "code",
   "execution_count": 4,
   "metadata": {},
   "outputs": [
    {
     "name": "stdout",
     "output_type": "stream",
     "text": [
      "/users/allyw/Astro 480/ResearchProject\\Bias_BIN1_20190506_021550.fits 1309.5129508972168\n",
      "/users/allyw/Astro 480/ResearchProject\\Bias_BIN1_20190506_021556.fits 1309.501971244812\n",
      "/users/allyw/Astro 480/ResearchProject\\Bias_BIN1_20190506_021602.fits 1309.4899234771729\n",
      "/users/allyw/Astro 480/ResearchProject\\Bias_BIN1_20190506_021607.fits 1309.5117416381836\n",
      "/users/allyw/Astro 480/ResearchProject\\Bias_BIN1_20190506_021611.fits 1309.5222940444946\n",
      "/users/allyw/Astro 480/ResearchProject\\Bias_BIN1_20190506_021616.fits 1309.5177431106567\n",
      "/users/allyw/Astro 480/ResearchProject\\Bias_BIN1_20190506_021621.fits 1309.5232257843018\n",
      "/users/allyw/Astro 480/ResearchProject\\Bias_BIN1_20190506_021625.fits 1309.525149345398\n",
      "/users/allyw/Astro 480/ResearchProject\\Bias_BIN1_20190506_021629.fits 1309.5222692489624\n",
      "/users/allyw/Astro 480/ResearchProject\\Bias_BIN1_20190506_021635.fits 1309.509301185608\n",
      "/users/allyw/Astro 480/ResearchProject\\Bias_BIN1_20190506_021640.fits 1309.5277824401855\n",
      "/users/allyw/Astro 480/ResearchProject\\Bias_BIN1_20190506_223801.fits 1308.8279886245728\n"
     ]
    }
   ],
   "source": [
    "image_data_list=[]\n",
    "for bias_file in bias_list:\n",
    "    image_data = fits.getdata(bias_file)\n",
    "    image_data_list.append(image_data)\n",
    "    print(bias_file, np.mean(image_data))"
   ]
  },
  {
   "cell_type": "code",
   "execution_count": 5,
   "metadata": {},
   "outputs": [],
   "source": [
    "master_bias = np.median(image_data_list, axis = 0)"
   ]
  },
  {
   "cell_type": "code",
   "execution_count": 6,
   "metadata": {},
   "outputs": [
    {
     "data": {
      "text/plain": [
       "1309.5"
      ]
     },
     "execution_count": 6,
     "metadata": {},
     "output_type": "execute_result"
    }
   ],
   "source": [
    "np.median(master_bias)"
   ]
  },
  {
   "cell_type": "code",
   "execution_count": 7,
   "metadata": {},
   "outputs": [],
   "source": [
    "u_flat = glob.glob('/users/allyw/Astro 480/ResearchProject/skyflat_sdss_u_001.fits') \n",
    "g_flat = glob.glob('/users/allyw/Astro 480/ResearchProject/skyflat_sdss_g_001.fits')\n",
    "r_flat = glob.glob('/users/allyw/Astro 480/ResearchProject/skyflat_sdss_r_001.fits')\n",
    "i_flat = glob.glob('/users/allyw/Astro 480/ResearchProject/skyflat_sdss_i_001.fits')\n",
    "z_flat = glob.glob('/users/allyw/Astro 480/ResearchProject/skyflat_sdss_z_001.fits')\n",
    "h_flat = glob.glob('/users/allyw/Astro 480/ResearchProject/skyflat_halpha_001.fits')"
   ]
  },
  {
   "cell_type": "code",
   "execution_count": 8,
   "metadata": {},
   "outputs": [
    {
     "name": "stdout",
     "output_type": "stream",
     "text": [
      "/users/allyw/Astro 480/ResearchProject/skyflat_sdss_u_001.fits 30815.732138633728\n"
     ]
    }
   ],
   "source": [
    "u_flat_list=[]\n",
    "for flat_file in u_flat:\n",
    "    image_data = fits.getdata(flat_file)\n",
    "    u_flat_list.append(image_data)\n",
    "    print(flat_file, np.mean(image_data))"
   ]
  },
  {
   "cell_type": "code",
   "execution_count": 9,
   "metadata": {},
   "outputs": [
    {
     "name": "stdout",
     "output_type": "stream",
     "text": [
      "/users/allyw/Astro 480/ResearchProject/skyflat_sdss_g_001.fits 28768.90833568573\n"
     ]
    }
   ],
   "source": [
    "g_flat_list=[]\n",
    "for flat_file in g_flat:\n",
    "    image_data = fits.getdata(flat_file)\n",
    "    g_flat_list.append(image_data)\n",
    "    print(flat_file, np.mean(image_data))"
   ]
  },
  {
   "cell_type": "code",
   "execution_count": 10,
   "metadata": {},
   "outputs": [
    {
     "name": "stdout",
     "output_type": "stream",
     "text": [
      "/users/allyw/Astro 480/ResearchProject/skyflat_sdss_r_001.fits 18463.63752746582\n"
     ]
    }
   ],
   "source": [
    "r_flat_list=[]\n",
    "for flat_file in r_flat:\n",
    "    image_data = fits.getdata(flat_file)\n",
    "    r_flat_list.append(image_data)\n",
    "    print(flat_file, np.mean(image_data))"
   ]
  },
  {
   "cell_type": "code",
   "execution_count": 11,
   "metadata": {},
   "outputs": [
    {
     "name": "stdout",
     "output_type": "stream",
     "text": [
      "/users/allyw/Astro 480/ResearchProject/skyflat_sdss_i_001.fits 18504.045983314514\n"
     ]
    }
   ],
   "source": [
    "i_flat_list=[]\n",
    "for flat_file in i_flat:\n",
    "    image_data = fits.getdata(flat_file)\n",
    "    i_flat_list.append(image_data)\n",
    "    print(flat_file, np.mean(image_data))"
   ]
  },
  {
   "cell_type": "code",
   "execution_count": 12,
   "metadata": {},
   "outputs": [
    {
     "name": "stdout",
     "output_type": "stream",
     "text": [
      "/users/allyw/Astro 480/ResearchProject/skyflat_sdss_z_001.fits 18088.984580993652\n"
     ]
    }
   ],
   "source": [
    "z_flat_list=[]\n",
    "for flat_file in z_flat:\n",
    "    image_data = fits.getdata(flat_file)\n",
    "    z_flat_list.append(image_data)\n",
    "    print(flat_file, np.mean(image_data))"
   ]
  },
  {
   "cell_type": "code",
   "execution_count": 13,
   "metadata": {},
   "outputs": [
    {
     "name": "stdout",
     "output_type": "stream",
     "text": [
      "/users/allyw/Astro 480/ResearchProject/skyflat_halpha_001.fits 15015.34829044342\n"
     ]
    }
   ],
   "source": [
    "h_flat_list=[]\n",
    "for flat_file in h_flat:\n",
    "    image_data = fits.getdata(flat_file)\n",
    "    h_flat_list.append(image_data)\n",
    "    print(flat_file, np.mean(image_data))"
   ]
  },
  {
   "cell_type": "code",
   "execution_count": 14,
   "metadata": {},
   "outputs": [],
   "source": [
    "M82h = glob.glob('/users/allyw/Astro 480/ResearchProject/M82_halpha_20190502_045653.fits')\n",
    "M82u = glob.glob('/users/allyw/Astro 480/ResearchProject/M82_sdss_u_20190502_050824.fits')\n",
    "M82g = glob.glob('/users/allyw/Astro 480/ResearchProject/M82_sdss_g_20190502_052242.fits')\n",
    "M82r = glob.glob('/users/allyw/Astro 480/ResearchProject/M82_sdss_r_20190501_050012.fits')\n",
    "M82r2 = glob.glob('/users/allyw/Astro 480/ResearchProject/M82_sdss_r_20190502_045222.fits')\n",
    "M82i = glob.glob('/users/allyw/Astro 480/ResearchProject/M82_sdss_i_20190502_052656.fits')\n",
    "M82z = glob.glob('/users/allyw/Astro 480/ResearchProject/M82_sdss_z_20190502_053302.fits')"
   ]
  },
  {
   "cell_type": "code",
   "execution_count": 15,
   "metadata": {},
   "outputs": [],
   "source": [
    "for M82u_file in M82u:\n",
    "    calibrated_m82u = M82u_file.replace('.fits','_cal.fits') # this just adds \"cal\" to the end of the file name\n",
    "    image_data = (fits.getdata(M82u_file) - master_bias)/(np.median(u_flat_list))\n",
    "    hdu = fits.PrimaryHDU(image_data)\n",
    "    hdu.header = fits.getheader(M82u_file)\n",
    "    hdulist = fits.HDUList([hdu])\n",
    "    hdulist.writeto(calibrated_m82u, overwrite=True)"
   ]
  },
  {
   "cell_type": "code",
   "execution_count": 16,
   "metadata": {},
   "outputs": [],
   "source": [
    "for M82r_file in M82r:\n",
    "    calibrated_m82r = M82r_file.replace('.fits','_cal.fits') # this just adds \"cal\" to the end of the file name\n",
    "    image_data = (fits.getdata(M82r_file) - master_bias)/(np.median(r_flat_list))\n",
    "    hdu = fits.PrimaryHDU(image_data)\n",
    "    hdu.header = fits.getheader(M82r_file)\n",
    "    hdulist = fits.HDUList([hdu])\n",
    "    hdulist.writeto(calibrated_m82r, overwrite=True)"
   ]
  },
  {
   "cell_type": "code",
   "execution_count": 17,
   "metadata": {},
   "outputs": [],
   "source": [
    "for M82g_file in M82g:\n",
    "    calibrated_m82g = M82g_file.replace('.fits','_cal.fits') # this just adds \"cal\" to the end of the file name\n",
    "    image_data = (fits.getdata(M82g_file) - master_bias)/(np.median(g_flat_list))\n",
    "    hdu = fits.PrimaryHDU(image_data)\n",
    "    hdu.header = fits.getheader(M82g_file)\n",
    "    hdulist = fits.HDUList([hdu])\n",
    "    hdulist.writeto(calibrated_m82g, overwrite=True)"
   ]
  },
  {
   "cell_type": "code",
   "execution_count": 18,
   "metadata": {},
   "outputs": [],
   "source": [
    "for M82r2_file in M82r2:\n",
    "    calibrated_m82r2 = M82r2_file.replace('.fits','_cal.fits') # this just adds \"cal\" to the end of the file name\n",
    "    image_data = (fits.getdata(M82r2_file) - master_bias)/(np.median(r_flat_list))\n",
    "    hdu = fits.PrimaryHDU(image_data)\n",
    "    hdu.header = fits.getheader(M82r2_file)\n",
    "    hdulist = fits.HDUList([hdu])\n",
    "    hdulist.writeto(calibrated_m82r2, overwrite=True)"
   ]
  },
  {
   "cell_type": "code",
   "execution_count": 19,
   "metadata": {},
   "outputs": [],
   "source": [
    "for M82h_file in M82h:\n",
    "    calibrated_m82h = M82h_file.replace('.fits','_cal.fits') # this just adds \"cal\" to the end of the file name\n",
    "    image_data = (fits.getdata(M82h_file) - master_bias)/(np.median(h_flat_list))\n",
    "    hdu = fits.PrimaryHDU(image_data)\n",
    "    hdu.header = fits.getheader(M82h_file)\n",
    "    hdulist = fits.HDUList([hdu])\n",
    "    hdulist.writeto(calibrated_m82h, overwrite=True)"
   ]
  },
  {
   "cell_type": "code",
   "execution_count": 20,
   "metadata": {},
   "outputs": [
    {
     "data": {
      "text/plain": [
       "<matplotlib.image.AxesImage at 0x1c7dfbd8208>"
      ]
     },
     "execution_count": 20,
     "metadata": {},
     "output_type": "execute_result"
    },
    {
     "data": {
      "image/png": "[encoded data removed]",
      "text/plain": [
       "<Figure size 432x288 with 1 Axes>"
      ]
     },
     "metadata": {
      "needs_background": "light"
     },
     "output_type": "display_data"
    }
   ],
   "source": [
    "StarformM82 = fits.getdata(calibrated_m82h) - fits.getdata(calibrated_m82r)\n",
    "plt.imshow(StarformM82)"
   ]
  },
  {
   "cell_type": "code",
   "execution_count": 21,
   "metadata": {},
   "outputs": [],
   "source": [
    "hdu = fits.PrimaryHDU(StarformM82) \n",
    "fits.writeto('StarformM82.fits',StarformM82, overwrite = True)"
   ]
  },
  {
   "cell_type": "code",
   "execution_count": 22,
   "metadata": {},
   "outputs": [],
   "source": [
    "M3h = glob.glob('/users/allyw/Astro 480/ResearchProject/M3_halpha_20190501_092948.fits')\n",
    "M3u = glob.glob('/users/allyw/Astro 480/ResearchProject/M3_sdss_u_20190501_092006.fits')\n",
    "M3g = glob.glob('/users/allyw/Astro 480/ResearchProject/M3_sdss_g_20190501_085824.fits')\n",
    "M3r = glob.glob('/users/allyw/Astro 480/ResearchProject/M3_sdss_r_20190501_091345.fits')\n",
    "#M3 = glob.glob('/users/allyw/Astro 480/ResearchProject/M82_sdss_r_20190502_045222.fits')\n",
    "M3i = glob.glob('/users/allyw/Astro 480/ResearchProject/M3_sdss_i_20190501_090302.fits')\n",
    "M3z = glob.glob('/users/allyw/Astro 480/ResearchProject/M3_sdss_z_20190501_090826.fits')"
   ]
  },
  {
   "cell_type": "code",
   "execution_count": 23,
   "metadata": {},
   "outputs": [],
   "source": [
    "for M3r_file in M3r:\n",
    "    calibrated_m3r = M3r_file.replace('.fits','_cal.fits') # this just adds \"cal\" to the end of the file name\n",
    "    image_data = (fits.getdata(M3r_file) - master_bias)/(np.median(r_flat_list))\n",
    "    hdu = fits.PrimaryHDU(image_data)\n",
    "    hdu.header = fits.getheader(M3r_file)\n",
    "    hdulist = fits.HDUList([hdu])\n",
    "    hdulist.writeto(calibrated_m3r, overwrite=True)"
   ]
  },
  {
   "cell_type": "code",
   "execution_count": 24,
   "metadata": {},
   "outputs": [],
   "source": [
    "for M3g_file in M3g:\n",
    "    calibrated_m3gg = M3g_file.replace('.fits','_cal.fits') # this just adds \"cal\" to the end of the file name\n",
    "    image_data = (fits.getdata(M3g_file) - master_bias)/(np.median(g_flat_list))\n",
    "    hdu = fits.PrimaryHDU(image_data)\n",
    "    hdu.header = fits.getheader(M3g_file)\n",
    "    hdulist = fits.HDUList([hdu])\n",
    "    hdulist.writeto(calibrated_m3gg, overwrite=True)"
   ]
  },
  {
   "cell_type": "code",
   "execution_count": 25,
   "metadata": {},
   "outputs": [],
   "source": [
    "for M3z_file in M3z:\n",
    "    calibrated_m3z = M3z_file.replace('.fits','_cal.fits') # this just adds \"cal\" to the end of the file name\n",
    "    image_data = (fits.getdata(M3z_file) - master_bias)/(np.median(z_flat_list))\n",
    "    hdu = fits.PrimaryHDU(image_data)\n",
    "    hdu.header = fits.getheader(M3z_file)\n",
    "    hdulist = fits.HDUList([hdu])\n",
    "    hdulist.writeto(calibrated_m3z, overwrite=True)"
   ]
  },
  {
   "cell_type": "code",
   "execution_count": 26,
   "metadata": {},
   "outputs": [],
   "source": [
    "for M3h_file in M3h:\n",
    "    calibrated_m3h = M3h_file.replace('.fits','_cal.fits') # this just adds \"cal\" to the end of the file name\n",
    "    image_data = (fits.getdata(M3h_file) - master_bias)/(np.median(h_flat_list))\n",
    "    hdu = fits.PrimaryHDU(image_data)\n",
    "    hdu.header = fits.getheader(M3h_file)\n",
    "    hdulist = fits.HDUList([hdu])\n",
    "    hdulist.writeto(calibrated_m3h, overwrite=True)"
   ]
  },
  {
   "cell_type": "code",
   "execution_count": 27,
   "metadata": {},
   "outputs": [
    {
     "data": {
      "text/plain": [
       "<matplotlib.image.AxesImage at 0x1c7dfc6ea20>"
      ]
     },
     "execution_count": 27,
     "metadata": {},
     "output_type": "execute_result"
    },
    {
     "data": {
      "image/png": "[encoded data removed]",
      "text/plain": [
       "<Figure size 432x288 with 1 Axes>"
      ]
     },
     "metadata": {
      "needs_background": "light"
     },
     "output_type": "display_data"
    }
   ],
   "source": [
    "StarformM3 = fits.getdata(calibrated_m3h) - fits.getdata(calibrated_m3r)\n",
    "plt.imshow(StarformM3)"
   ]
  },
  {
   "cell_type": "code",
   "execution_count": 28,
   "metadata": {},
   "outputs": [],
   "source": [
    "\n",
    "hdu = fits.PrimaryHDU(StarformM3) \n",
    "fits.writeto('StarformM3.fits',StarformM3, overwrite = True)"
   ]
  },
  {
   "cell_type": "code",
   "execution_count": null,
   "metadata": {},
   "outputs": [],
   "source": []
  },
  {
   "cell_type": "code",
   "execution_count": 29,
   "metadata": {},
   "outputs": [],
   "source": [
    "M87h = glob.glob('/users/allyw/Astro 480/ResearchProject/M87_halpha_20190502_054733.fits')\n",
    "M87u = glob.glob('/users/allyw/Astro 480/ResearchProject/M87_sdss_u_20190502_055541.fits')\n",
    "M87g = glob.glob('/users/allyw/Astro 480/ResearchProject/M87_sdss_g_20190502_061411.fits')\n",
    "M87r = glob.glob('/users/allyw/Astro 480/ResearchProject/M87_sdss_r_20190502_054039.fits')\n",
    "#M87i = glob.glob('/users/allyw/Astro 480/ResearchProject/M3_sdss_i_20190501_090302.fits')\n",
    "#M87z = glob.glob('/users/allyw/Astro 480/ResearchProject/M3_sdss_z_20190501_090826.fits')"
   ]
  },
  {
   "cell_type": "code",
   "execution_count": 30,
   "metadata": {},
   "outputs": [],
   "source": [
    "for M87r_file in M87r:\n",
    "    calibrated_m87r = M87r_file.replace('.fits','_cal.fits') # this just adds \"cal\" to the end of the file name\n",
    "    image_data = (fits.getdata(M87r_file) - master_bias)/(np.median(r_flat_list))\n",
    "    hdu = fits.PrimaryHDU(image_data)\n",
    "    hdu.header = fits.getheader(M87r_file)\n",
    "    hdulist = fits.HDUList([hdu])\n",
    "    hdulist.writeto(calibrated_m87r, overwrite=True)"
   ]
  },
  {
   "cell_type": "code",
   "execution_count": 31,
   "metadata": {},
   "outputs": [],
   "source": [
    "for M87g_file in M87g:\n",
    "    calibrated_m87g = M87g_file.replace('.fits','_cal.fits') # this just adds \"cal\" to the end of the file name\n",
    "    image_data = (fits.getdata(M87g_file) - master_bias)/(np.median(g_flat_list))\n",
    "    hdu = fits.PrimaryHDU(image_data)\n",
    "    hdu.header = fits.getheader(M87g_file)\n",
    "    hdulist = fits.HDUList([hdu])\n",
    "    hdulist.writeto(calibrated_m87g, overwrite=True)"
   ]
  },
  {
   "cell_type": "code",
   "execution_count": 32,
   "metadata": {},
   "outputs": [],
   "source": [
    "for M87u_file in M87u:\n",
    "    calibrated_m87u = M87u_file.replace('.fits','_cal.fits') # this just adds \"cal\" to the end of the file name\n",
    "    image_data = (fits.getdata(M87u_file) - master_bias)/(np.median(u_flat_list))\n",
    "    hdu = fits.PrimaryHDU(image_data)\n",
    "    hdu.header = fits.getheader(M87u_file)\n",
    "    hdulist = fits.HDUList([hdu])\n",
    "    hdulist.writeto(calibrated_m87u, overwrite=True)"
   ]
  },
  {
   "cell_type": "code",
   "execution_count": 33,
   "metadata": {},
   "outputs": [],
   "source": [
    "for M87h_file in M87h:\n",
    "    calibrated_m87h = M87h_file.replace('.fits','_cal.fits') # this just adds \"cal\" to the end of the file name\n",
    "    image_data = (fits.getdata(M87h_file) - master_bias)/(np.median(h_flat_list))\n",
    "    hdu = fits.PrimaryHDU(image_data)\n",
    "    hdu.header = fits.getheader(M87h_file)\n",
    "    hdulist = fits.HDUList([hdu])\n",
    "    hdulist.writeto(calibrated_m87h, overwrite=True)"
   ]
  },
  {
   "cell_type": "code",
   "execution_count": 34,
   "metadata": {},
   "outputs": [
    {
     "data": {
      "text/plain": [
       "<matplotlib.image.AxesImage at 0x1c7dfccff98>"
      ]
     },
     "execution_count": 34,
     "metadata": {},
     "output_type": "execute_result"
    },
    {
     "data": {
      "image/png": "[encoded data removed]",
      "text/plain": [
       "<Figure size 432x288 with 1 Axes>"
      ]
     },
     "metadata": {
      "needs_background": "light"
     },
     "output_type": "display_data"
    }
   ],
   "source": [
    "StarformM87 = fits.getdata(calibrated_m87h) - fits.getdata(calibrated_m87r)\n",
    "plt.imshow(StarformM87)"
   ]
  },
  {
   "cell_type": "code",
   "execution_count": 35,
   "metadata": {},
   "outputs": [],
   "source": [
    "hdu = fits.PrimaryHDU(StarformM87)\n",
    "fits.writeto('StarformM87.fits',StarformM87, overwrite = True)"
   ]
  },
  {
   "cell_type": "code",
   "execution_count": 36,
   "metadata": {},
   "outputs": [],
   "source": [
    "NGC6791h = glob.glob('/users/allyw/Astro 480/ResearchProject/NGC6791_halpha_20190502_082011.fits')\n",
    "NGC6791u = glob.glob('/users/allyw/Astro 480/ResearchProject/NGC6791_sdss_u_20190502_082519.fits')\n",
    "NGC6791g = glob.glob('/users/allyw/Astro 480/ResearchProject/NGC6791_sdss_g_20190502_081732.fits')\n",
    "NGC6791r = glob.glob('/users/allyw/Astro 480/ResearchProject/NGC6791_sdss_r_20190502_083041.fits')"
   ]
  },
  {
   "cell_type": "code",
   "execution_count": 37,
   "metadata": {},
   "outputs": [],
   "source": [
    "for NGC6791r_file in NGC6791r:\n",
    "    calibrated_ngc6791r = NGC6791r_file.replace('.fits','_cal.fits') # this just adds \"cal\" to the end of the file name\n",
    "    image_data = (fits.getdata(NGC6791r_file) - master_bias)/(np.median(r_flat_list))\n",
    "    hdu = fits.PrimaryHDU(image_data)\n",
    "    hdu.header = fits.getheader(NGC6791r_file)\n",
    "    hdulist = fits.HDUList([hdu])\n",
    "    hdulist.writeto(calibrated_ngc6791r, overwrite=True)"
   ]
  },
  {
   "cell_type": "code",
   "execution_count": 38,
   "metadata": {},
   "outputs": [],
   "source": [
    "for NGC6791g_file in NGC6791g:\n",
    "    calibrated_ngc6791g = NGC6791g_file.replace('.fits','_cal.fits') # this just adds \"cal\" to the end of the file name\n",
    "    image_data = (fits.getdata(NGC6791g_file) - master_bias)/(np.median(g_flat_list))\n",
    "    hdu = fits.PrimaryHDU(image_data)\n",
    "    hdu.header = fits.getheader(NGC6791g_file)\n",
    "    hdulist = fits.HDUList([hdu])\n",
    "    hdulist.writeto(calibrated_ngc6791g, overwrite=True)"
   ]
  },
  {
   "cell_type": "code",
   "execution_count": 39,
   "metadata": {},
   "outputs": [],
   "source": [
    "for NGC6791u_file in NGC6791u:\n",
    "    calibrated_ngc6791u = NGC6791u_file.replace('.fits','_cal.fits') # this just adds \"cal\" to the end of the file name\n",
    "    image_data = (fits.getdata(NGC6791u_file) - master_bias)/(np.median(u_flat_list))\n",
    "    hdu = fits.PrimaryHDU(image_data)\n",
    "    hdu.header = fits.getheader(NGC6791u_file)\n",
    "    hdulist = fits.HDUList([hdu])\n",
    "    hdulist.writeto(calibrated_ngc6791u, overwrite=True)"
   ]
  },
  {
   "cell_type": "code",
   "execution_count": 40,
   "metadata": {},
   "outputs": [],
   "source": [
    "for NGC6791h_file in NGC6791h:\n",
    "    calibrated_ngc6791h = NGC6791h_file.replace('.fits','_cal.fits') # this just adds \"cal\" to the end of the file name\n",
    "    image_data = (fits.getdata(NGC6791h_file) - master_bias)/(np.median(h_flat_list))\n",
    "    hdu = fits.PrimaryHDU(image_data)\n",
    "    hdu.header = fits.getheader(NGC6791h_file)\n",
    "    hdulist = fits.HDUList([hdu])\n",
    "    hdulist.writeto(calibrated_ngc6791h, overwrite=True)"
   ]
  },
  {
   "cell_type": "code",
   "execution_count": 41,
   "metadata": {},
   "outputs": [
    {
     "data": {
      "text/plain": [
       "<matplotlib.image.AxesImage at 0x1c7dfd3db38>"
      ]
     },
     "execution_count": 41,
     "metadata": {},
     "output_type": "execute_result"
    },
    {
     "data": {
      "image/png": "[encoded data removed]",
      "text/plain": [
       "<Figure size 432x288 with 1 Axes>"
      ]
     },
     "metadata": {
      "needs_background": "light"
     },
     "output_type": "display_data"
    }
   ],
   "source": [
    "StarformNGC6791 = fits.getdata(calibrated_ngc6791h) - fits.getdata(calibrated_ngc6791r)\n",
    "plt.imshow(StarformNGC6791)"
   ]
  },
  {
   "cell_type": "code",
   "execution_count": 42,
   "metadata": {},
   "outputs": [],
   "source": [
    "hdu = fits.PrimaryHDU(StarformNGC6791)\n",
    "fits.writeto('StarformNGC6791.fits',StarformNGC6791, overwrite = True)"
   ]
  },
  {
   "cell_type": "code",
   "execution_count": null,
   "metadata": {},
   "outputs": [],
   "source": []
  },
  {
   "cell_type": "code",
   "execution_count": 43,
   "metadata": {},
   "outputs": [],
   "source": [
    "M51h = glob.glob('/users/allyw/Astro 480/ResearchProject/M51_halpha_20190501_083356.fits')\n",
    "M51u = glob.glob('/users/allyw/Astro 480/ResearchProject/M51_sdss_u_20190501_084159.fits')\n",
    "M51g = glob.glob('/users/allyw/Astro 480/ResearchProject/M51_sdss_g_20190501_081040.fits')\n",
    "M51r = glob.glob('/users/allyw/Astro 480/ResearchProject/M51_sdss_r_20190501_082651.fits')"
   ]
  },
  {
   "cell_type": "code",
   "execution_count": 44,
   "metadata": {},
   "outputs": [],
   "source": [
    "for M51r_file in M51r:\n",
    "    calibrated_m51r = M51r_file.replace('.fits','_cal.fits') # this just adds \"cal\" to the end of the file name\n",
    "    image_data = (fits.getdata(M51r_file) - master_bias)/(np.median(r_flat_list))\n",
    "    hdu = fits.PrimaryHDU(image_data)\n",
    "    hdu.header = fits.getheader(M51r_file)\n",
    "    hdulist = fits.HDUList([hdu])\n",
    "    hdulist.writeto(calibrated_m51r, overwrite=True)"
   ]
  },
  {
   "cell_type": "code",
   "execution_count": 45,
   "metadata": {},
   "outputs": [],
   "source": [
    "for M51g_file in M51g:\n",
    "    calibrated_m51g = M51g_file.replace('.fits','_cal.fits') # this just adds \"cal\" to the end of the file name\n",
    "    image_data = (fits.getdata(M51g_file) - master_bias)/(np.median(g_flat_list))\n",
    "    hdu = fits.PrimaryHDU(image_data)\n",
    "    hdu.header = fits.getheader(M51g_file)\n",
    "    hdulist = fits.HDUList([hdu])\n",
    "    hdulist.writeto(calibrated_m51g, overwrite=True)"
   ]
  },
  {
   "cell_type": "code",
   "execution_count": 46,
   "metadata": {},
   "outputs": [],
   "source": [
    "for M51u_file in M51u:\n",
    "    calibrated_m51u = M51u_file.replace('.fits','_cal.fits') # this just adds \"cal\" to the end of the file name\n",
    "    image_data = (fits.getdata(M51u_file) - master_bias)/(np.median(u_flat_list))\n",
    "    hdu = fits.PrimaryHDU(image_data)\n",
    "    hdu.header = fits.getheader(M51u_file)\n",
    "    hdulist = fits.HDUList([hdu])\n",
    "    hdulist.writeto(calibrated_m51u, overwrite=True)"
   ]
  },
  {
   "cell_type": "code",
   "execution_count": 47,
   "metadata": {},
   "outputs": [],
   "source": [
    "for M51h_file in M51h:\n",
    "    calibrated_m51h = M51h_file.replace('.fits','_cal.fits') # this just adds \"cal\" to the end of the file name\n",
    "    image_data = (fits.getdata(M51h_file) - master_bias)/(np.median(h_flat_list))\n",
    "    hdu = fits.PrimaryHDU(image_data)\n",
    "    hdu.header = fits.getheader(M51h_file)\n",
    "    hdulist = fits.HDUList([hdu])\n",
    "    hdulist.writeto(calibrated_m51h, overwrite=True)"
   ]
  },
  {
   "cell_type": "code",
   "execution_count": 48,
   "metadata": {},
   "outputs": [
    {
     "data": {
      "text/plain": [
       "<matplotlib.image.AxesImage at 0x1c7e1eaa6d8>"
      ]
     },
     "execution_count": 48,
     "metadata": {},
     "output_type": "execute_result"
    },
    {
     "data": {
      "image/png": "[encoded data removed]",
      "text/plain": [
       "<Figure size 432x288 with 1 Axes>"
      ]
     },
     "metadata": {
      "needs_background": "light"
     },
     "output_type": "display_data"
    }
   ],
   "source": [
    "StarformM51 = fits.getdata(calibrated_m51h) - fits.getdata(calibrated_m51r)\n",
    "plt.imshow(StarformM51)"
   ]
  },
  {
   "cell_type": "code",
   "execution_count": 49,
   "metadata": {},
   "outputs": [],
   "source": [
    "hdu = fits.PrimaryHDU(StarformM51)\n",
    "fits.writeto('StarformM51.fits',StarformM51, overwrite = True)"
   ]
  },
  {
   "cell_type": "code",
   "execution_count": null,
   "metadata": {},
   "outputs": [],
   "source": []
  },
  {
   "cell_type": "code",
   "execution_count": 50,
   "metadata": {},
   "outputs": [],
   "source": [
    "M81u = glob.glob('/users/allyw/Astro 480/ResearchProject/M 81_sdss_u_20190501_063746.fits')\n",
    "M81g = glob.glob('/users/allyw/Astro 480/ResearchProject/M 81_sdss_g_20190501_062204.fits')\n",
    "M81r = glob.glob('/users/allyw/Astro 480/ResearchProject/M 81_sdss_r_20190501_061629.fits')"
   ]
  },
  {
   "cell_type": "code",
   "execution_count": 51,
   "metadata": {},
   "outputs": [],
   "source": [
    "for M81r_file in M81r:\n",
    "    calibrated_m81r = M81r_file.replace('.fits','_cal.fits') # this just adds \"cal\" to the end of the file name\n",
    "    image_data = (fits.getdata(M81r_file) - master_bias)/(np.median(r_flat_list))\n",
    "    hdu = fits.PrimaryHDU(image_data)\n",
    "    hdu.header = fits.getheader(M81r_file)\n",
    "    hdulist = fits.HDUList([hdu])\n",
    "    hdulist.writeto(calibrated_m81r, overwrite=True)"
   ]
  },
  {
   "cell_type": "code",
   "execution_count": 52,
   "metadata": {},
   "outputs": [],
   "source": [
    "for M81g_file in M81g:\n",
    "    calibrated_m81g = M81g_file.replace('.fits','_cal.fits') # this just adds \"cal\" to the end of the file name\n",
    "    image_data = (fits.getdata(M81g_file) - master_bias)/(np.median(g_flat_list))\n",
    "    hdu = fits.PrimaryHDU(image_data)\n",
    "    hdu.header = fits.getheader(M81g_file)\n",
    "    hdulist = fits.HDUList([hdu])\n",
    "    hdulist.writeto(calibrated_m81g, overwrite=True)"
   ]
  },
  {
   "cell_type": "code",
   "execution_count": 53,
   "metadata": {},
   "outputs": [],
   "source": [
    "for M81u_file in M81u:\n",
    "    calibrated_m81u = M81u_file.replace('.fits','_cal.fits') # this just adds \"cal\" to the end of the file name\n",
    "    image_data = (fits.getdata(M81u_file) - master_bias)/(np.median(u_flat_list))\n",
    "    hdu = fits.PrimaryHDU(image_data)\n",
    "    hdu.header = fits.getheader(M81u_file)\n",
    "    hdulist = fits.HDUList([hdu])\n",
    "    hdulist.writeto(calibrated_m81u, overwrite=True)"
   ]
  },
  {
   "cell_type": "code",
   "execution_count": null,
   "metadata": {},
   "outputs": [],
   "source": []
  },
  {
   "cell_type": "code",
   "execution_count": 54,
   "metadata": {},
   "outputs": [],
   "source": [
    "ICh = glob.glob('/users/allyw/Astro 480/ResearchProject/IC4665_halpha_20190502_073750.fits')\n",
    "ICu = glob.glob('/users/allyw/Astro 480/ResearchProject/IC4665_sdss_u_20190502_080308.fits')\n",
    "ICg = glob.glob('/users/allyw/Astro 480/ResearchProject/IC4665_sdss_g_20190502_074659.fits')\n",
    "ICr = glob.glob('/users/allyw/Astro 480/ResearchProject/IC4665_sdss_r_20190502_075935.fits')"
   ]
  },
  {
   "cell_type": "code",
   "execution_count": 59,
   "metadata": {},
   "outputs": [],
   "source": [
    "for ICr_file in ICr:\n",
    "    calibrated_icr = ICr_file.replace('.fits','_cal.fits') # this just adds \"cal\" to the end of the file name\n",
    "    image_data = (fits.getdata(ICr_file) - master_bias)/(np.median(r_flat_list))\n",
    "    hdu = fits.PrimaryHDU(image_data)\n",
    "    hdu.header = fits.getheader(ICr_file)\n",
    "    hdulist = fits.HDUList([hdu])\n",
    "    hdulist.writeto(calibrated_icr, overwrite=True)"
   ]
  },
  {
   "cell_type": "code",
   "execution_count": 61,
   "metadata": {},
   "outputs": [],
   "source": [
    "for ICg_file in ICg:\n",
    "    calibrated_icg = ICg_file.replace('.fits','_cal.fits') # this just adds \"cal\" to the end of the file name\n",
    "    image_data = (fits.getdata(ICg_file) - master_bias)/(np.median(g_flat_list))\n",
    "    hdu = fits.PrimaryHDU(image_data)\n",
    "    hdu.header = fits.getheader(ICg_file)\n",
    "    hdulist = fits.HDUList([hdu])\n",
    "    hdulist.writeto(calibrated_icg, overwrite=True)"
   ]
  },
  {
   "cell_type": "code",
   "execution_count": 62,
   "metadata": {},
   "outputs": [],
   "source": [
    "for ICu_file in ICu:\n",
    "    calibrated_icu = ICu_file.replace('.fits','_cal.fits') # this just adds \"cal\" to the end of the file name\n",
    "    image_data = (fits.getdata(ICu_file) - master_bias)/(np.median(u_flat_list))\n",
    "    hdu = fits.PrimaryHDU(image_data)\n",
    "    hdu.header = fits.getheader(ICu_file)\n",
    "    hdulist = fits.HDUList([hdu])\n",
    "    hdulist.writeto(calibrated_icu, overwrite=True)"
   ]
  },
  {
   "cell_type": "code",
   "execution_count": 63,
   "metadata": {},
   "outputs": [],
   "source": [
    "for ICh_file in ICh:\n",
    "    calibrated_ich = ICh_file.replace('.fits','_cal.fits') # this just adds \"cal\" to the end of the file name\n",
    "    image_data = (fits.getdata(ICh_file) - master_bias)/(np.median(h_flat_list))\n",
    "    hdu = fits.PrimaryHDU(image_data)\n",
    "    hdu.header = fits.getheader(ICh_file)\n",
    "    hdulist = fits.HDUList([hdu])\n",
    "    hdulist.writeto(calibrated_ich, overwrite=True)"
   ]
  },
  {
   "cell_type": "code",
   "execution_count": 64,
   "metadata": {},
   "outputs": [
    {
     "data": {
      "text/plain": [
       "<matplotlib.image.AxesImage at 0x1c7e1f1e208>"
      ]
     },
     "execution_count": 64,
     "metadata": {},
     "output_type": "execute_result"
    },
    {
     "data": {
      "image/png": "[encoded data removed]",
      "text/plain": [
       "<Figure size 432x288 with 1 Axes>"
      ]
     },
     "metadata": {
      "needs_background": "light"
     },
     "output_type": "display_data"
    }
   ],
   "source": [
    "StarformIC = fits.getdata(calibrated_ich) - fits.getdata(calibrated_icr)\n",
    "plt.imshow(StarformIC)"
   ]
  },
  {
   "cell_type": "code",
   "execution_count": 65,
   "metadata": {},
   "outputs": [],
   "source": [
    "hdu = fits.PrimaryHDU(StarformIC)\n",
    "fits.writeto('StarformIC.fits',StarformIC, overwrite = True)"
   ]
  },
  {
   "cell_type": "code",
   "execution_count": null,
   "metadata": {},
   "outputs": [],
   "source": []
  },
  {
   "cell_type": "code",
   "execution_count": 66,
   "metadata": {},
   "outputs": [],
   "source": [
    "#M105h = glob.glob('/users/allyw/Astro 480/ResearchProject/IC4665_halpha_20190502_073750.fits')\n",
    "M105u = glob.glob('/users/allyw/Astro 480/ResearchProject/M105_sdss_u_20190502_031617.fits')\n",
    "M105g = glob.glob('/users/allyw/Astro 480/ResearchProject/M105_sdss_g_20190502_033356.fits')\n",
    "M105r = glob.glob('/users/allyw/Astro 480/ResearchProject/M105_sdss_r_20190502_030800.fits')"
   ]
  },
  {
   "cell_type": "code",
   "execution_count": 67,
   "metadata": {},
   "outputs": [],
   "source": [
    "for M105r_file in M105r:\n",
    "    calibrated_m105r = M105r_file.replace('.fits','_cal.fits') # this just adds \"cal\" to the end of the file name\n",
    "    image_data = (fits.getdata(M105r_file) - master_bias)/(np.median(r_flat_list))\n",
    "    hdu = fits.PrimaryHDU(image_data)\n",
    "    hdu.header = fits.getheader(M105r_file)\n",
    "    hdulist = fits.HDUList([hdu])\n",
    "    hdulist.writeto(calibrated_m105r, overwrite=True)"
   ]
  },
  {
   "cell_type": "code",
   "execution_count": 68,
   "metadata": {},
   "outputs": [],
   "source": [
    "for M105g_file in M105g:\n",
    "    calibrated_m105g = M105g_file.replace('.fits','_cal.fits') # this just adds \"cal\" to the end of the file name\n",
    "    image_data = (fits.getdata(M105g_file) - master_bias)/(np.median(g_flat_list))\n",
    "    hdu = fits.PrimaryHDU(image_data)\n",
    "    hdu.header = fits.getheader(M105g_file)\n",
    "    hdulist = fits.HDUList([hdu])\n",
    "    hdulist.writeto(calibrated_m105g, overwrite=True)"
   ]
  },
  {
   "cell_type": "code",
   "execution_count": 69,
   "metadata": {},
   "outputs": [],
   "source": [
    "for M105u_file in M105u:\n",
    "    calibrated_m105u = M105u_file.replace('.fits','_cal.fits') # this just adds \"cal\" to the end of the file name\n",
    "    image_data = (fits.getdata(M105u_file) - master_bias)/(np.median(u_flat_list))\n",
    "    hdu = fits.PrimaryHDU(image_data)\n",
    "    hdu.header = fits.getheader(M105u_file)\n",
    "    hdulist = fits.HDUList([hdu])\n",
    "    hdulist.writeto(calibrated_m105u, overwrite=True)"
   ]
  },
  {
   "cell_type": "code",
   "execution_count": null,
   "metadata": {},
   "outputs": [],
   "source": []
  }
 ],
 "metadata": {
  "kernelspec": {
   "display_name": "Python 3",
   "language": "python",
   "name": "python3"
  },
  "language_info": {
   "codemirror_mode": {
    "name": "ipython",
    "version": 3
   },
   "file_extension": ".py",
   "mimetype": "text/x-python",
   "name": "python",
   "nbconvert_exporter": "python",
   "pygments_lexer": "ipython3",
   "version": "3.6.6"
  }
 },
 "nbformat": 4,
 "nbformat_minor": 2
}
